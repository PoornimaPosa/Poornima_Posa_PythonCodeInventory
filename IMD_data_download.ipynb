{
 "cells": [
  {
   "cell_type": "code",
   "execution_count": 2,
   "id": "c991e443",
   "metadata": {},
   "outputs": [
    {
     "name": "stdout",
     "output_type": "stream",
     "text": [
      "Collecting imdlib\n",
      "  Obtaining dependency information for imdlib from https://files.pythonhosted.org/packages/f9/76/bb71caf2ae9aee9235aeaa0a675862d04ee07d41c3a7c292d296176497c3/imdlib-0.1.19-py3-none-any.whl.metadata\n",
      "  Downloading imdlib-0.1.19-py3-none-any.whl.metadata (4.4 kB)\n",
      "Requirement already satisfied: matplotlib in c:\\users\\user\\anaconda3\\envs\\geospat\\lib\\site-packages (from imdlib) (3.4.3)\n",
      "Requirement already satisfied: numpy in c:\\users\\user\\anaconda3\\envs\\geospat\\lib\\site-packages (from imdlib) (1.24.4)\n",
      "Requirement already satisfied: pandas in c:\\users\\user\\anaconda3\\envs\\geospat\\lib\\site-packages (from imdlib) (1.2.5)\n",
      "Requirement already satisfied: six in c:\\users\\user\\anaconda3\\envs\\geospat\\lib\\site-packages (from imdlib) (1.16.0)\n",
      "Requirement already satisfied: python-dateutil in c:\\users\\user\\anaconda3\\envs\\geospat\\lib\\site-packages (from imdlib) (2.8.2)\n",
      "Requirement already satisfied: pytz in c:\\users\\user\\anaconda3\\envs\\geospat\\lib\\site-packages (from imdlib) (2022.7)\n",
      "Requirement already satisfied: urllib3 in c:\\users\\user\\anaconda3\\envs\\geospat\\lib\\site-packages (from imdlib) (1.26.16)\n",
      "Requirement already satisfied: scipy in c:\\users\\user\\anaconda3\\envs\\geospat\\lib\\site-packages (from imdlib) (1.10.1)\n",
      "Collecting xarray (from imdlib)\n",
      "  Downloading xarray-2023.1.0-py3-none-any.whl (973 kB)\n",
      "     ---------------------------------------- 0.0/973.1 kB ? eta -:--:--\n",
      "     - ----------------------------------- 30.7/973.1 kB 435.7 kB/s eta 0:00:03\n",
      "     ----------- -------------------------- 286.7/973.1 kB 2.9 MB/s eta 0:00:01\n",
      "     -------------------------------------  972.8/973.1 kB 6.9 MB/s eta 0:00:01\n",
      "     -------------------------------------- 973.1/973.1 kB 6.2 MB/s eta 0:00:00\n",
      "Requirement already satisfied: requests in c:\\users\\user\\anaconda3\\envs\\geospat\\lib\\site-packages (from imdlib) (2.31.0)\n",
      "Requirement already satisfied: cycler>=0.10 in c:\\users\\user\\anaconda3\\envs\\geospat\\lib\\site-packages (from matplotlib->imdlib) (0.11.0)\n",
      "Requirement already satisfied: kiwisolver>=1.0.1 in c:\\users\\user\\anaconda3\\envs\\geospat\\lib\\site-packages (from matplotlib->imdlib) (1.4.4)\n",
      "Requirement already satisfied: pillow>=6.2.0 in c:\\users\\user\\anaconda3\\envs\\geospat\\lib\\site-packages (from matplotlib->imdlib) (10.0.0)\n",
      "Requirement already satisfied: pyparsing>=2.2.1 in c:\\users\\user\\anaconda3\\envs\\geospat\\lib\\site-packages (from matplotlib->imdlib) (3.0.9)\n",
      "Requirement already satisfied: charset-normalizer<4,>=2 in c:\\users\\user\\anaconda3\\envs\\geospat\\lib\\site-packages (from requests->imdlib) (2.0.4)\n",
      "Requirement already satisfied: idna<4,>=2.5 in c:\\users\\user\\anaconda3\\envs\\geospat\\lib\\site-packages (from requests->imdlib) (3.4)\n",
      "Requirement already satisfied: certifi>=2017.4.17 in c:\\users\\user\\anaconda3\\envs\\geospat\\lib\\site-packages (from requests->imdlib) (2023.7.22)\n",
      "Collecting pandas (from imdlib)\n",
      "  Obtaining dependency information for pandas from https://files.pythonhosted.org/packages/c3/6c/ea362eef61f05553aaf1a24b3e96b2d0603f5dc71a3bd35688a24ed88843/pandas-2.0.3-cp38-cp38-win_amd64.whl.metadata\n",
      "  Downloading pandas-2.0.3-cp38-cp38-win_amd64.whl.metadata (18 kB)\n",
      "Requirement already satisfied: packaging>=21.3 in c:\\users\\user\\anaconda3\\envs\\geospat\\lib\\site-packages (from xarray->imdlib) (23.1)\n",
      "Collecting tzdata>=2022.1 (from pandas->imdlib)\n",
      "  Downloading tzdata-2023.3-py2.py3-none-any.whl (341 kB)\n",
      "     ---------------------------------------- 0.0/341.8 kB ? eta -:--:--\n",
      "     ------------------------------------- 341.8/341.8 kB 20.7 MB/s eta 0:00:00\n",
      "Downloading imdlib-0.1.19-py3-none-any.whl (20 kB)\n",
      "Downloading pandas-2.0.3-cp38-cp38-win_amd64.whl (10.8 MB)\n",
      "   ---------------------------------------- 0.0/10.8 MB ? eta -:--:--\n",
      "   -- ------------------------------------- 0.7/10.8 MB 23.0 MB/s eta 0:00:01\n",
      "   ----- ---------------------------------- 1.5/10.8 MB 19.3 MB/s eta 0:00:01\n",
      "   -------- ------------------------------- 2.4/10.8 MB 16.8 MB/s eta 0:00:01\n",
      "   ------------ --------------------------- 3.3/10.8 MB 19.3 MB/s eta 0:00:01\n",
      "   --------------- ------------------------ 4.2/10.8 MB 19.2 MB/s eta 0:00:01\n",
      "   ------------------ --------------------- 4.9/10.8 MB 18.3 MB/s eta 0:00:01\n",
      "   -------------------- ------------------- 5.5/10.8 MB 17.6 MB/s eta 0:00:01\n",
      "   ----------------------- ---------------- 6.3/10.8 MB 17.5 MB/s eta 0:00:01\n",
      "   -------------------------- ------------- 7.0/10.8 MB 17.2 MB/s eta 0:00:01\n",
      "   ---------------------------- ----------- 7.6/10.8 MB 16.9 MB/s eta 0:00:01\n",
      "   ------------------------------ --------- 8.2/10.8 MB 16.5 MB/s eta 0:00:01\n",
      "   --------------------------------- ------ 8.9/10.8 MB 15.8 MB/s eta 0:00:01\n",
      "   ----------------------------------- ---- 9.5/10.8 MB 16.0 MB/s eta 0:00:01\n",
      "   ------------------------------------- -- 10.0/10.8 MB 15.6 MB/s eta 0:00:01\n",
      "   ---------------------------------------  10.6/10.8 MB 15.2 MB/s eta 0:00:01\n",
      "   ---------------------------------------  10.8/10.8 MB 15.2 MB/s eta 0:00:01\n",
      "   ---------------------------------------- 10.8/10.8 MB 14.2 MB/s eta 0:00:00\n",
      "Installing collected packages: tzdata, pandas, xarray, imdlib\n",
      "  Attempting uninstall: pandas\n",
      "    Found existing installation: pandas 1.2.5\n",
      "    Uninstalling pandas-1.2.5:\n",
      "      Successfully uninstalled pandas-1.2.5\n",
      "Successfully installed imdlib-0.1.19 pandas-2.0.3 tzdata-2023.3 xarray-2023.1.0\n",
      "Note: you may need to restart the kernel to use updated packages.\n"
     ]
    },
    {
     "name": "stderr",
     "output_type": "stream",
     "text": [
      "ERROR: pip's dependency resolver does not currently take into account all the packages that are installed. This behaviour is the source of the following dependency conflicts.\n",
      "pointpats 2.2.0 requires opencv-contrib-python>=4.2.0, which is not installed.\n",
      "pysal 23.1 requires momepy>=0.5.4, but you have momepy 0.0.0 which is incompatible.\n",
      "pysal 23.1 requires spaghetti>=1.7.2, but you have spaghetti 0.0.0 which is incompatible.\n",
      "pysal 23.1 requires tobler>=0.8.2, but you have tobler 0.0.0 which is incompatible.\n"
     ]
    }
   ],
   "source": [
    "pip install imdlib"
   ]
  },
  {
   "cell_type": "code",
   "execution_count": 5,
   "id": "e7ff7821",
   "metadata": {},
   "outputs": [
    {
     "name": "stdout",
     "output_type": "stream",
     "text": [
      "Downloading: maxtemp for year 2022\n",
      "Download Successful !!!\n"
     ]
    },
    {
     "data": {
      "text/plain": [
       "<imdlib.core.IMD at 0x1f594f83130>"
      ]
     },
     "execution_count": 5,
     "metadata": {},
     "output_type": "execute_result"
    }
   ],
   "source": [
    "import imdlib as imd\n",
    "\n",
    "start_yr = 2022\n",
    "end_yr = 2022\n",
    "variable = 'tmax' # other options are ('tmin'/ 'tmax')\n",
    "file_dir = (r'P:\\\\G\\\\4.2 Datasets\\\\Temperature data\\\\Tmax\\\\') #Path to save the files\n",
    "imd.get_data(variable, start_yr, end_yr, fn_format='yearwise', file_dir=file_dir)"
   ]
  },
  {
   "cell_type": "code",
   "execution_count": 4,
   "id": "419b445a",
   "metadata": {},
   "outputs": [
    {
     "name": "stdout",
     "output_type": "stream",
     "text": [
      "Downloading: mintemp for year 1951\n",
      "Downloading: mintemp for year 1952\n",
      "Downloading: mintemp for year 1953\n",
      "Downloading: mintemp for year 1954\n",
      "Downloading: mintemp for year 1955\n",
      "Downloading: mintemp for year 1956\n",
      "Downloading: mintemp for year 1957\n",
      "Downloading: mintemp for year 1958\n",
      "Downloading: mintemp for year 1959\n",
      "Downloading: mintemp for year 1960\n",
      "Downloading: mintemp for year 1961\n",
      "Downloading: mintemp for year 1962\n",
      "Downloading: mintemp for year 1963\n",
      "Downloading: mintemp for year 1964\n",
      "Downloading: mintemp for year 1965\n",
      "Downloading: mintemp for year 1966\n",
      "Downloading: mintemp for year 1967\n",
      "Downloading: mintemp for year 1968\n",
      "Downloading: mintemp for year 1969\n",
      "Downloading: mintemp for year 1970\n",
      "Downloading: mintemp for year 1971\n",
      "Downloading: mintemp for year 1972\n",
      "Downloading: mintemp for year 1973\n",
      "Downloading: mintemp for year 1974\n",
      "Downloading: mintemp for year 1975\n",
      "Downloading: mintemp for year 1976\n",
      "Downloading: mintemp for year 1977\n",
      "Downloading: mintemp for year 1978\n",
      "Downloading: mintemp for year 1979\n",
      "Downloading: mintemp for year 1980\n",
      "Downloading: mintemp for year 1981\n",
      "Downloading: mintemp for year 1982\n",
      "Downloading: mintemp for year 1983\n",
      "Downloading: mintemp for year 1984\n",
      "Downloading: mintemp for year 1985\n",
      "Downloading: mintemp for year 1986\n",
      "Downloading: mintemp for year 1987\n",
      "Downloading: mintemp for year 1988\n",
      "Downloading: mintemp for year 1989\n",
      "Downloading: mintemp for year 1990\n",
      "Downloading: mintemp for year 1991\n",
      "Downloading: mintemp for year 1992\n",
      "Downloading: mintemp for year 1993\n",
      "Downloading: mintemp for year 1994\n",
      "Downloading: mintemp for year 1995\n",
      "Downloading: mintemp for year 1996\n",
      "Downloading: mintemp for year 1997\n",
      "Downloading: mintemp for year 1998\n",
      "Downloading: mintemp for year 1999\n",
      "Downloading: mintemp for year 2000\n",
      "Downloading: mintemp for year 2001\n",
      "Downloading: mintemp for year 2002\n",
      "Downloading: mintemp for year 2003\n",
      "Downloading: mintemp for year 2004\n",
      "Downloading: mintemp for year 2005\n",
      "Downloading: mintemp for year 2006\n",
      "Downloading: mintemp for year 2007\n",
      "Downloading: mintemp for year 2008\n",
      "Downloading: mintemp for year 2009\n",
      "Downloading: mintemp for year 2010\n",
      "Downloading: mintemp for year 2011\n",
      "Downloading: mintemp for year 2012\n",
      "Downloading: mintemp for year 2013\n",
      "Downloading: mintemp for year 2014\n",
      "Downloading: mintemp for year 2015\n",
      "Downloading: mintemp for year 2016\n",
      "Downloading: mintemp for year 2017\n",
      "Downloading: mintemp for year 2018\n",
      "Downloading: mintemp for year 2019\n",
      "Downloading: mintemp for year 2020\n",
      "Downloading: mintemp for year 2021\n",
      "Downloading: mintemp for year 2022\n",
      "Download Successful !!!\n"
     ]
    },
    {
     "data": {
      "text/plain": [
       "<imdlib.core.IMD at 0x1f594ef9b50>"
      ]
     },
     "execution_count": 4,
     "metadata": {},
     "output_type": "execute_result"
    }
   ],
   "source": [
    "import imdlib as imd\n",
    "\n",
    "start_yr = 1951\n",
    "end_yr = 2022\n",
    "variable = 'tmin' # other options are ('tmin'/ 'tmax')\n",
    "file_dir = (r'P:\\\\G\\\\4.2 Datasets\\\\Temperature data\\\\') #Path to save the files\n",
    "imd.get_data(variable, start_yr, end_yr, fn_format='yearwise', file_dir=file_dir)"
   ]
  },
  {
   "cell_type": "code",
   "execution_count": null,
   "id": "6e6f7130",
   "metadata": {},
   "outputs": [],
   "source": []
  }
 ],
 "metadata": {
  "kernelspec": {
   "display_name": "Python 3 (ipykernel)",
   "language": "python",
   "name": "python3"
  },
  "language_info": {
   "codemirror_mode": {
    "name": "ipython",
    "version": 3
   },
   "file_extension": ".py",
   "mimetype": "text/x-python",
   "name": "python",
   "nbconvert_exporter": "python",
   "pygments_lexer": "ipython3",
   "version": "3.8.18"
  }
 },
 "nbformat": 4,
 "nbformat_minor": 5
}
